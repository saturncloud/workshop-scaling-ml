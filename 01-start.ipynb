{
 "cells": [
  {
   "cell_type": "markdown",
   "metadata": {},
   "source": [
    "# Scaling Machine Learning in Python\n",
    "\n",
    "<img src=\"img/saturn.png\" width=\"400\" />\n",
    "\n",
    "## Welcome!\n",
    "\n",
    "In this hands-on workshop, attendees will have the opportunity to see how a standard data science and machine learning workflow using pandas and scikit-learn can be easily parallelized using Dask clusters on Saturn Cloud.\n",
    "\n",
    "After this workshop you will know:\n",
    "- When you need parallel computing for your workflow\n",
    "- How to use Dask Dataframes for loading and cleaning data\n",
    "- How to perform distributed model training with Dask\n",
    "- How to scale a hyperparameter search across a cluster\n",
    "- How to conduct a batch inference task over a cluster\n",
    "\n",
    "## Start Dask cluster\n",
    "\n",
    "If you are not reading this from inside Jupyter Lab in Saturn Cloud, check out the [README.md](README.md) to set up your account and servers.\n",
    "\n",
    "Run the following cell to ensure your Dask cluster is up and running (if it is not yet started, it may take a few minutes to spin up). If you see something like:\n",
    "```\n",
    "[2020-11-05 19:23:55] INFO - dask-saturn | Cluster is ready\n",
    "Hello, world!\n",
    "```\n",
    "as the output, you are ready to go! More details will be explained in subsequent notebooks."
   ]
  },
  {
   "cell_type": "code",
   "execution_count": 2,
   "metadata": {},
   "outputs": [
    {
     "name": "stdout",
     "output_type": "stream",
     "text": [
      "[2020-11-05 19:24:14] INFO - dask-saturn | Cluster is ready\n",
      "Hello, world!\n"
     ]
    }
   ],
   "source": [
    "from dask_saturn import SaturnCluster\n",
    "from dask.distributed import Client\n",
    "\n",
    "cluster = SaturnCluster()\n",
    "client = Client(cluster)\n",
    "client.wait_for_workers(3)\n",
    "\n",
    "print('Hello, world!')"
   ]
  }
 ],
 "metadata": {
  "kernelspec": {
   "display_name": "Python 3",
   "language": "python",
   "name": "python3"
  },
  "language_info": {
   "codemirror_mode": {
    "name": "ipython",
    "version": 3
   },
   "file_extension": ".py",
   "mimetype": "text/x-python",
   "name": "python",
   "nbconvert_exporter": "python",
   "pygments_lexer": "ipython3",
   "version": "3.7.7"
  }
 },
 "nbformat": 4,
 "nbformat_minor": 4
}

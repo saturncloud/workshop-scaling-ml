{
 "cells": [
  {
   "cell_type": "markdown",
   "metadata": {},
   "source": [
    "<img style=\"float: right\" src=\"img/saturn.png\" width=\"300\" />\n",
    "\n",
    "# Scaling Machine Learning in Python\n",
    "\n",
    "## Large datasets\n",
    "\n",
    "- Load and process large dataset\n",
    "    - `dask.dataframe`\n",
    "- Predict over large dataset\n",
    "    - `ParallelPostFit`\n",
    "    - `map_partitions`\n",
    "- Train model with large dataset\n",
    "    - `Incremental`\n",
    "    - `dask_ml`\n",
    "    - XGBoost"
   ]
  }
 ],
 "metadata": {
  "kernelspec": {
   "display_name": "Python 3",
   "language": "python",
   "name": "python3"
  },
  "language_info": {
   "codemirror_mode": {
    "name": "ipython",
    "version": 3
   },
   "file_extension": ".py",
   "mimetype": "text/x-python",
   "name": "python",
   "nbconvert_exporter": "python",
   "pygments_lexer": "ipython3",
   "version": "3.7.7"
  }
 },
 "nbformat": 4,
 "nbformat_minor": 4
}

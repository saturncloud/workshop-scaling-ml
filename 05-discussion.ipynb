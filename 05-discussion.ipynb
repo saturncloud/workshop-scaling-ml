{
 "cells": [
  {
   "cell_type": "markdown",
   "metadata": {},
   "source": [
    "# Recap\n",
    "\n",
    "discuss failure scenarios and how Dask makes them possible and/or faster\n",
    "\n",
    "# Couldn't we use a larger Jupyter Server?\n",
    "\n",
    "# What else?\n",
    "\n",
    "- RAPIDS\n",
    "- Deep learning"
   ]
  }
 ],
 "metadata": {
  "kernelspec": {
   "display_name": "Python 3",
   "language": "python",
   "name": "python3"
  },
  "language_info": {
   "codemirror_mode": {
    "name": "ipython",
    "version": 3
   },
   "file_extension": ".py",
   "mimetype": "text/x-python",
   "name": "python",
   "nbconvert_exporter": "python",
   "pygments_lexer": "ipython3",
   "version": "3.7.7"
  }
 },
 "nbformat": 4,
 "nbformat_minor": 4
}

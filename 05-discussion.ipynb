{
 "cells": [
  {
   "cell_type": "markdown",
   "metadata": {},
   "source": [
    "# Recap\n",
    "\n",
    "discuss failure scenarios and how Dask makes them possible and/or faster\n",
    "\n",
    "## Dask concepts\n",
    "\n",
    "We introduced several key Dask concepts by walking through the machine learning workflows. The workflow examples were specific to the NYC taxi data, but you can utilize these concepts to parallelize just about any use case with Dask.\n",
    "\n",
    "- Initialize Dask: `SaturnCluster` and `Client`\n",
    "- Dask's lazy evaluation: `.compute()`, `.persist()`, and `wait()`\n",
    "- `dask.delayed` functions: when processing doesn't fit into `dask.dataframe` or `dask.array` classes\n",
    "- Dask DataFrames: parallel pandas DataFrames\n",
    "    - `map_partitions`: execute arbitrary functions\n",
    "- Dask Joblib backend: parallelize scikit-learn algorithms\n",
    "- Dask futures: execute functions remotely\n",
    "\n",
    "# Couldn't we use a larger Jupyter Server?\n",
    "\n",
    "# What else?\n",
    "\n",
    "- RAPIDS\n",
    "- Deep learning"
   ]
  }
 ],
 "metadata": {
  "kernelspec": {
   "display_name": "Python 3",
   "language": "python",
   "name": "python3"
  },
  "language_info": {
   "codemirror_mode": {
    "name": "ipython",
    "version": 3
   },
   "file_extension": ".py",
   "mimetype": "text/x-python",
   "name": "python",
   "nbconvert_exporter": "python",
   "pygments_lexer": "ipython3",
   "version": "3.7.7"
  }
 },
 "nbformat": 4,
 "nbformat_minor": 4
}
